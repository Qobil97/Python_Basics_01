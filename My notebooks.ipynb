{
 "cells": [
  {
   "cell_type": "markdown",
   "metadata": {},
   "source": [
    "My first notebook"
   ]
  },
  {
   "cell_type": "markdown",
   "metadata": {},
   "source": [
    "1.List"
   ]
  },
  {
   "cell_type": "code",
   "execution_count": 2,
   "metadata": {},
   "outputs": [
    {
     "name": "stdout",
     "output_type": "stream",
     "text": [
      "Hello World!\n"
     ]
    }
   ],
   "source": [
    "print('Hello World!')"
   ]
  },
  {
   "cell_type": "code",
   "execution_count": 1,
   "metadata": {},
   "outputs": [],
   "source": [
    "names=['John', 'Bob', 'Mirfayz', 'Sarah', 'Azi' ]"
   ]
  },
  {
   "cell_type": "code",
   "execution_count": 2,
   "metadata": {},
   "outputs": [
    {
     "name": "stdout",
     "output_type": "stream",
     "text": [
      "John\n"
     ]
    }
   ],
   "source": [
    "print(names[0])"
   ]
  },
  {
   "cell_type": "code",
   "execution_count": 5,
   "metadata": {},
   "outputs": [
    {
     "name": "stdout",
     "output_type": "stream",
     "text": [
      "['Mirfayz', 'Sarah']\n",
      "['John', 'Bob', 'Kholmirzayev', 'Sarah', 'Azi']\n"
     ]
    }
   ],
   "source": [
    "print(names[2:4])\n",
    "#the 4th element is not included always\n",
    "#range from 0 to 3, 4 elements\n",
    "#with square bracket we get a new list\n",
    "#2:4\n",
    "names[2]='Kholmirzayev'\n",
    "print(names)"
   ]
  },
  {
   "cell_type": "markdown",
   "metadata": {},
   "source": [
    "2.Largest number in a list"
   ]
  },
  {
   "cell_type": "code",
   "execution_count": 6,
   "metadata": {},
   "outputs": [
    {
     "name": "stdout",
     "output_type": "stream",
     "text": [
      "1997\n"
     ]
    }
   ],
   "source": [
    "numbers_list=[12,55,87,100,1000,1025,1997]\n",
    "max=numbers_list[0]\n",
    "for number in numbers_list:\n",
    "    if number>max:\n",
    "        max=number\n",
    "print(max)\n",
    "\n"
   ]
  },
  {
   "cell_type": "markdown",
   "metadata": {},
   "source": [
    "3. 2 dimensional list"
   ]
  },
  {
   "cell_type": "code",
   "execution_count": 1,
   "metadata": {},
   "outputs": [
    {
     "ename": "IndexError",
     "evalue": "list index out of range",
     "output_type": "error",
     "traceback": [
      "\u001b[1;31m---------------------------------------------------------------------------\u001b[0m",
      "\u001b[1;31mIndexError\u001b[0m                                Traceback (most recent call last)",
      "\u001b[1;32mc:\\Users\\HP\\Documents\\Study\\self learn\\Python\\PLAYGROUND\\My notebooks.ipynb Cell 10\u001b[0m in \u001b[0;36m<cell line: 13>\u001b[1;34m()\u001b[0m\n\u001b[0;32m      <a href='vscode-notebook-cell:/c%3A/Users/HP/Documents/Study/self%20learn/Python/PLAYGROUND/My%20notebooks.ipynb#X13sZmlsZQ%3D%3D?line=0'>1</a>\u001b[0m \u001b[39m#[123\u001b[39;00m\n\u001b[0;32m      <a href='vscode-notebook-cell:/c%3A/Users/HP/Documents/Study/self%20learn/Python/PLAYGROUND/My%20notebooks.ipynb#X13sZmlsZQ%3D%3D?line=1'>2</a>\u001b[0m \u001b[39m# 456\u001b[39;00m\n\u001b[0;32m      <a href='vscode-notebook-cell:/c%3A/Users/HP/Documents/Study/self%20learn/Python/PLAYGROUND/My%20notebooks.ipynb#X13sZmlsZQ%3D%3D?line=2'>3</a>\u001b[0m \u001b[39m# 789]\u001b[39;00m\n\u001b[0;32m      <a href='vscode-notebook-cell:/c%3A/Users/HP/Documents/Study/self%20learn/Python/PLAYGROUND/My%20notebooks.ipynb#X13sZmlsZQ%3D%3D?line=3'>4</a>\u001b[0m \n\u001b[0;32m      <a href='vscode-notebook-cell:/c%3A/Users/HP/Documents/Study/self%20learn/Python/PLAYGROUND/My%20notebooks.ipynb#X13sZmlsZQ%3D%3D?line=4'>5</a>\u001b[0m \u001b[39m#3*3 matrix in math, in python it can be written with 2 dimensional list(items in each row)\u001b[39;00m\n\u001b[0;32m      <a href='vscode-notebook-cell:/c%3A/Users/HP/Documents/Study/self%20learn/Python/PLAYGROUND/My%20notebooks.ipynb#X13sZmlsZQ%3D%3D?line=6'>7</a>\u001b[0m matrix\u001b[39m=\u001b[39m [\n\u001b[0;32m      <a href='vscode-notebook-cell:/c%3A/Users/HP/Documents/Study/self%20learn/Python/PLAYGROUND/My%20notebooks.ipynb#X13sZmlsZQ%3D%3D?line=7'>8</a>\u001b[0m     [\u001b[39m1\u001b[39m,\u001b[39m2\u001b[39m,\u001b[39m3\u001b[39m],\n\u001b[0;32m      <a href='vscode-notebook-cell:/c%3A/Users/HP/Documents/Study/self%20learn/Python/PLAYGROUND/My%20notebooks.ipynb#X13sZmlsZQ%3D%3D?line=8'>9</a>\u001b[0m     [\u001b[39m4\u001b[39m,\u001b[39m5\u001b[39m,\u001b[39m6\u001b[39m],\n\u001b[0;32m     <a href='vscode-notebook-cell:/c%3A/Users/HP/Documents/Study/self%20learn/Python/PLAYGROUND/My%20notebooks.ipynb#X13sZmlsZQ%3D%3D?line=9'>10</a>\u001b[0m     [\u001b[39m7\u001b[39m,\u001b[39m8\u001b[39m,\u001b[39m9\u001b[39m,]\n\u001b[0;32m     <a href='vscode-notebook-cell:/c%3A/Users/HP/Documents/Study/self%20learn/Python/PLAYGROUND/My%20notebooks.ipynb#X13sZmlsZQ%3D%3D?line=10'>11</a>\u001b[0m ]\n\u001b[1;32m---> <a href='vscode-notebook-cell:/c%3A/Users/HP/Documents/Study/self%20learn/Python/PLAYGROUND/My%20notebooks.ipynb#X13sZmlsZQ%3D%3D?line=12'>13</a>\u001b[0m \u001b[39mprint\u001b[39m(matrix[\u001b[39m1\u001b[39;49m][\u001b[39m3\u001b[39;49m])\n",
      "\u001b[1;31mIndexError\u001b[0m: list index out of range"
     ]
    }
   ],
   "source": [
    "#[123\n",
    "# 456\n",
    "# 789]\n",
    "\n",
    "#3*3 matrix in math, in python it can be written with 2 dimensional list(items in each row)\n",
    "\n",
    "matrix= [\n",
    "    [1,2,3],\n",
    "    [4,5,6],\n",
    "    [7,8,9,]\n",
    "]"
   ]
  },
  {
   "cell_type": "code",
   "execution_count": 4,
   "metadata": {},
   "outputs": [
    {
     "name": "stdout",
     "output_type": "stream",
     "text": [
      "6\n"
     ]
    }
   ],
   "source": [
    "print(matrix[1][2])\n",
    "# error above came: I used range incorrectly, like 3 (0,1,2) but the range was 2(0,1)"
   ]
  },
  {
   "cell_type": "code",
   "execution_count": 6,
   "metadata": {},
   "outputs": [
    {
     "name": "stdout",
     "output_type": "stream",
     "text": [
      "[[1, 2, 3], [4, 5, 6], [7, 12, 9]]\n"
     ]
    }
   ],
   "source": [
    "matrix[2][1]=12 #bir desam, 2 chisini oladi list dan\n",
    "print(matrix) #I modified here"
   ]
  },
  {
   "cell_type": "code",
   "execution_count": 7,
   "metadata": {},
   "outputs": [
    {
     "name": "stdout",
     "output_type": "stream",
     "text": [
      "1\n",
      "2\n",
      "3\n",
      "4\n",
      "5\n",
      "6\n",
      "7\n",
      "12\n",
      "9\n"
     ]
    }
   ],
   "source": [
    "for row in matrix:\n",
    "    for item in row: # row is every \"row\" list item is inside that row list\n",
    "        print(item)"
   ]
  },
  {
   "cell_type": "markdown",
   "metadata": {},
   "source": [
    "4. List methods"
   ]
  },
  {
   "cell_type": "code",
   "execution_count": 9,
   "metadata": {},
   "outputs": [
    {
     "name": "stdout",
     "output_type": "stream",
     "text": [
      "[5, 2, 1, 7, 4, 10, 100]\n"
     ]
    }
   ],
   "source": [
    "numbers=[5,2,1,7,4,10]\n",
    "numbers.append(100)  # adding a new item .append() method\n",
    "print(numbers)"
   ]
  },
  {
   "cell_type": "code",
   "execution_count": 15,
   "metadata": {},
   "outputs": [
    {
     "name": "stdout",
     "output_type": "stream",
     "text": [
      "[10, 10, 5, 111, 111, 111, 111, 2, 1, 7, 4, 10, 100]\n"
     ]
    }
   ],
   "source": [
    "#numbers.insert(0,10)   #in a specific part of the list(adding)\n",
    "#here at the beginning of the list\n",
    "numbers.insert(3,111)\n",
    "print(numbers)"
   ]
  },
  {
   "cell_type": "code",
   "execution_count": 16,
   "metadata": {},
   "outputs": [
    {
     "name": "stdout",
     "output_type": "stream",
     "text": [
      "[10, 10, 111, 111, 111, 111, 2, 1, 7, 4, 10, 100]\n"
     ]
    }
   ],
   "source": [
    "numbers.remove(5)\n",
    "print(numbers) #remove an item, here 5 is a value"
   ]
  },
  {
   "cell_type": "code",
   "execution_count": 17,
   "metadata": {},
   "outputs": [
    {
     "name": "stdout",
     "output_type": "stream",
     "text": [
      "[]\n"
     ]
    }
   ],
   "source": [
    "numbers.clear()\n",
    "print(numbers) # this method clears all items"
   ]
  },
  {
   "cell_type": "code",
   "execution_count": 19,
   "metadata": {},
   "outputs": [
    {
     "name": "stdout",
     "output_type": "stream",
     "text": [
      "[5, 2, 1, 7, 4]\n"
     ]
    }
   ],
   "source": [
    "numbers = [5, 2, 1, 7, 4, 10]\n",
    "numbers.pop() #removes the last item in the list\n",
    "print(numbers)"
   ]
  },
  {
   "cell_type": "code",
   "execution_count": 20,
   "metadata": {},
   "outputs": [
    {
     "name": "stdout",
     "output_type": "stream",
     "text": [
      "0\n"
     ]
    }
   ],
   "source": [
    "print(numbers.index(5)) # this method to check item existence\n",
    "# here 5 is the first item"
   ]
  },
  {
   "cell_type": "code",
   "execution_count": 21,
   "metadata": {},
   "outputs": [
    {
     "ename": "ValueError",
     "evalue": "12 is not in list",
     "output_type": "error",
     "traceback": [
      "\u001b[1;31m---------------------------------------------------------------------------\u001b[0m",
      "\u001b[1;31mValueError\u001b[0m                                Traceback (most recent call last)",
      "\u001b[1;32mc:\\Users\\HP\\Documents\\Study\\self learn\\Python\\PLAYGROUND\\My notebooks.ipynb Cell 21\u001b[0m in \u001b[0;36m<cell line: 1>\u001b[1;34m()\u001b[0m\n\u001b[1;32m----> <a href='vscode-notebook-cell:/c%3A/Users/HP/Documents/Study/self%20learn/Python/PLAYGROUND/My%20notebooks.ipynb#X32sZmlsZQ%3D%3D?line=0'>1</a>\u001b[0m \u001b[39mprint\u001b[39m(numbers\u001b[39m.\u001b[39;49mindex(\u001b[39m12\u001b[39;49m))\n",
      "\u001b[1;31mValueError\u001b[0m: 12 is not in list"
     ]
    }
   ],
   "source": [
    "print(numbers.index(12))"
   ]
  },
  {
   "cell_type": "code",
   "execution_count": 22,
   "metadata": {},
   "outputs": [
    {
     "name": "stdout",
     "output_type": "stream",
     "text": [
      "False\n"
     ]
    }
   ],
   "source": [
    "print(50 in numbers) # we get boolean value by using \"in\" to check item existence"
   ]
  },
  {
   "cell_type": "code",
   "execution_count": 23,
   "metadata": {},
   "outputs": [
    {
     "name": "stdout",
     "output_type": "stream",
     "text": [
      "2\n"
     ]
    }
   ],
   "source": [
    "numbers=[5,1,22,22,3]\n",
    "print(numbers.count(22)) #counts the number of the given item\n"
   ]
  },
  {
   "cell_type": "code",
   "execution_count": 24,
   "metadata": {},
   "outputs": [
    {
     "name": "stdout",
     "output_type": "stream",
     "text": [
      "[1, 3, 5, 22, 22]\n"
     ]
    }
   ],
   "source": [
    "numbers.sort()\n",
    "print(numbers) #just sorts the list in ascending order"
   ]
  },
  {
   "cell_type": "code",
   "execution_count": 25,
   "metadata": {},
   "outputs": [
    {
     "name": "stdout",
     "output_type": "stream",
     "text": [
      "[22, 22, 5, 3, 1]\n"
     ]
    }
   ],
   "source": [
    "numbers.reverse()\n",
    "print(numbers) #sorts the list in descending order\n"
   ]
  },
  {
   "cell_type": "code",
   "execution_count": 27,
   "metadata": {},
   "outputs": [
    {
     "name": "stdout",
     "output_type": "stream",
     "text": [
      "[22, 22, 5, 3, 1, 102]\n",
      "[22, 22, 5, 3, 1, 102, 102]\n"
     ]
    }
   ],
   "source": [
    "numbers2=numbers.copy() # copies the list\n",
    "numbers.append(102)\n",
    "print(numbers2)\n",
    "print(numbers)"
   ]
  },
  {
   "cell_type": "markdown",
   "metadata": {},
   "source": [
    " List methods - CASE\n"
   ]
  },
  {
   "cell_type": "code",
   "execution_count": 28,
   "metadata": {},
   "outputs": [
    {
     "name": "stdout",
     "output_type": "stream",
     "text": [
      "[11, 13, 11, 15, 16]\n"
     ]
    }
   ],
   "source": [
    "data=[12,11,13,12,11,12,15,16]   #my first try incorrect\n",
    "duplicate=data[0]\n",
    "for numbers in data:\n",
    "    if duplicate==numbers:\n",
    "        data.remove(duplicate)\n",
    "print(data)"
   ]
  },
  {
   "cell_type": "code",
   "execution_count": 42,
   "metadata": {},
   "outputs": [
    {
     "name": "stdout",
     "output_type": "stream",
     "text": [
      "[12, 11, 13, 15, 16]\n"
     ]
    }
   ],
   "source": [
    "data=[12,11,13,12,11,12,15,16]\n",
    "uniques=[] #define empty list\n",
    "for number  in data:  # not in - \"if do not\"\n",
    "    if number not in uniques:\n",
    "        uniques.append(number)\n",
    "print(uniques)"
   ]
  },
  {
   "cell_type": "code",
   "execution_count": 39,
   "metadata": {},
   "outputs": [
    {
     "name": "stdout",
     "output_type": "stream",
     "text": [
      "None\n"
     ]
    }
   ],
   "source": [
    "print(uniques.sort()) # PROBLEM!!!!!!!"
   ]
  },
  {
   "cell_type": "markdown",
   "metadata": {},
   "source": [
    " 5.Tuples [tapl]"
   ]
  },
  {
   "cell_type": "code",
   "execution_count": 43,
   "metadata": {},
   "outputs": [
    {
     "ename": "TypeError",
     "evalue": "'tuple' object does not support item assignment",
     "output_type": "error",
     "traceback": [
      "\u001b[1;31m---------------------------------------------------------------------------\u001b[0m",
      "\u001b[1;31mTypeError\u001b[0m                                 Traceback (most recent call last)",
      "\u001b[1;32mc:\\Users\\HP\\Documents\\Study\\self learn\\Python\\PLAYGROUND\\My notebooks.ipynb Cell 32\u001b[0m in \u001b[0;36m<cell line: 3>\u001b[1;34m()\u001b[0m\n\u001b[0;32m      <a href='vscode-notebook-cell:/c%3A/Users/HP/Documents/Study/self%20learn/Python/PLAYGROUND/My%20notebooks.ipynb#X51sZmlsZQ%3D%3D?line=0'>1</a>\u001b[0m \u001b[39m#tuples with (), compared to list [], tuples are unchangable\u001b[39;00m\n\u001b[0;32m      <a href='vscode-notebook-cell:/c%3A/Users/HP/Documents/Study/self%20learn/Python/PLAYGROUND/My%20notebooks.ipynb#X51sZmlsZQ%3D%3D?line=1'>2</a>\u001b[0m numbers\u001b[39m=\u001b[39m(\u001b[39m1\u001b[39m,\u001b[39m2\u001b[39m,\u001b[39m3\u001b[39m)\n\u001b[1;32m----> <a href='vscode-notebook-cell:/c%3A/Users/HP/Documents/Study/self%20learn/Python/PLAYGROUND/My%20notebooks.ipynb#X51sZmlsZQ%3D%3D?line=2'>3</a>\u001b[0m numbers[\u001b[39m0\u001b[39m]\u001b[39m=\u001b[39m\u001b[39m10\u001b[39m\n\u001b[0;32m      <a href='vscode-notebook-cell:/c%3A/Users/HP/Documents/Study/self%20learn/Python/PLAYGROUND/My%20notebooks.ipynb#X51sZmlsZQ%3D%3D?line=3'>4</a>\u001b[0m \u001b[39mprint\u001b[39m(numbers[\u001b[39m0\u001b[39m])\n",
      "\u001b[1;31mTypeError\u001b[0m: 'tuple' object does not support item assignment"
     ]
    }
   ],
   "source": [
    "#tuples with (), compared to list [], tuples are unchangable \n",
    "numbers=(1,2,3)\n",
    "numbers[0]=10\n",
    "print(numbers[0])\n",
    "\n"
   ]
  },
  {
   "cell_type": "markdown",
   "metadata": {},
   "source": [
    "5.1 Unpacking"
   ]
  },
  {
   "cell_type": "code",
   "execution_count": 44,
   "metadata": {},
   "outputs": [
    {
     "name": "stdout",
     "output_type": "stream",
     "text": [
      "2\n"
     ]
    }
   ],
   "source": [
    "\n",
    "coordinates = (1, 2, 3) \n",
    "# x= coordinates[0] \n",
    "# y= coordinates[1]\n",
    "# z= coordinates[2]\n",
    "\n",
    "x, y, z = coordinates  # is better way to write. # unpacking can be used in lists or tuples\n",
    "print(y)"
   ]
  },
  {
   "cell_type": "markdown",
   "metadata": {},
   "source": [
    "6. Dictionaries,"
   ]
  },
  {
   "cell_type": "code",
   "execution_count": null,
   "metadata": {},
   "outputs": [],
   "source": [
    "# We use dictionaries in situations where we want to store information that comes as key value pairs. Here's an example. \n",
    "# Think of a customer. A customer has a bunch of attributes\n",
    "# like name, email, phone number, address and so on. Now each of these attributes has a value.\n",
    "# For example the name can be jon smith the email can be jon @ gmail.com the phone can be whatever\n",
    "# so what we have here is a bunch of key value pairs. \n"
   ]
  },
  {
   "cell_type": "code",
   "execution_count": 4,
   "metadata": {},
   "outputs": [],
   "source": [
    "\n",
    "clients={\n",
    "    \"name\":\"John Smith\",  # curly brackets, name is KEY, 25 is a VALUE, key-unique, values-can be anything\n",
    "    \"age\":25,\n",
    "    \"is_verified\":True\n",
    "\n",
    "}"
   ]
  },
  {
   "cell_type": "code",
   "execution_count": 5,
   "metadata": {},
   "outputs": [
    {
     "name": "stdout",
     "output_type": "stream",
     "text": [
      "25\n"
     ]
    }
   ],
   "source": [
    "print(clients[\"age\"])"
   ]
  },
  {
   "cell_type": "code",
   "execution_count": 6,
   "metadata": {},
   "outputs": [
    {
     "ename": "KeyError",
     "evalue": "'Age'",
     "output_type": "error",
     "traceback": [
      "\u001b[1;31m---------------------------------------------------------------------------\u001b[0m",
      "\u001b[1;31mKeyError\u001b[0m                                  Traceback (most recent call last)",
      "\u001b[1;32mc:\\Users\\HP\\Documents\\Study\\self learn\\Python\\PLAYGROUND\\My notebooks.ipynb Cell 39\u001b[0m in \u001b[0;36m<cell line: 1>\u001b[1;34m()\u001b[0m\n\u001b[1;32m----> <a href='vscode-notebook-cell:/c%3A/Users/HP/Documents/Study/self%20learn/Python/PLAYGROUND/My%20notebooks.ipynb#X52sZmlsZQ%3D%3D?line=0'>1</a>\u001b[0m \u001b[39mprint\u001b[39m(clients[\u001b[39m\"\u001b[39;49m\u001b[39mAge\u001b[39;49m\u001b[39m\"\u001b[39;49m])\n",
      "\u001b[1;31mKeyError\u001b[0m: 'Age'"
     ]
    }
   ],
   "source": [
    "print(clients[\"Age\"])"
   ]
  },
  {
   "cell_type": "code",
   "execution_count": 7,
   "metadata": {},
   "outputs": [
    {
     "ename": "KeyError",
     "evalue": "'Birthday'",
     "output_type": "error",
     "traceback": [
      "\u001b[1;31m---------------------------------------------------------------------------\u001b[0m",
      "\u001b[1;31mKeyError\u001b[0m                                  Traceback (most recent call last)",
      "\u001b[1;32mc:\\Users\\HP\\Documents\\Study\\self learn\\Python\\PLAYGROUND\\My notebooks.ipynb Cell 40\u001b[0m in \u001b[0;36m<cell line: 1>\u001b[1;34m()\u001b[0m\n\u001b[1;32m----> <a href='vscode-notebook-cell:/c%3A/Users/HP/Documents/Study/self%20learn/Python/PLAYGROUND/My%20notebooks.ipynb#X54sZmlsZQ%3D%3D?line=0'>1</a>\u001b[0m \u001b[39mprint\u001b[39m(clients[\u001b[39m\"\u001b[39;49m\u001b[39mBirthday\u001b[39;49m\u001b[39m\"\u001b[39;49m])\n",
      "\u001b[1;31mKeyError\u001b[0m: 'Birthday'"
     ]
    }
   ],
   "source": [
    "print(clients[\"Birthday\"])"
   ]
  },
  {
   "cell_type": "code",
   "execution_count": null,
   "metadata": {},
   "outputs": [
    {
     "name": "stdout",
     "output_type": "stream",
     "text": [
      "Jan 1 1997\n",
      "None\n"
     ]
    }
   ],
   "source": [
    "clients[\"birthdate\"] = \"Jan 1 1997\" #a new key is being added\n",
    "print(clients[\"birthdate\"])\n",
    "print(clients.get(\"address\"))\n",
    "\n",
    "# none means, absence of value(in general)"
   ]
  },
  {
   "cell_type": "markdown",
   "metadata": {},
   "source": [
    "CASE - PHONE number convert\n"
   ]
  },
  {
   "cell_type": "code",
   "execution_count": 1,
   "metadata": {},
   "outputs": [],
   "source": [
    "phone=input(\"Phone: \")\n",
    "numbers={\n",
    "    \"1\":\"One\",\n",
    "    \"2\":\"Two\",\n",
    "    \"3\":\"Three\",\n",
    "    \"4\":\"Four\"\n",
    "} \n",
    "output=\"\"\n",
    "for items in phone:\n",
    "    output += numbers.get(items, \"!\")\n",
    "print(output)\n"
   ]
  }
 ],
 "metadata": {
  "kernelspec": {
   "display_name": "Python 3.10.0 64-bit",
   "language": "python",
   "name": "python3"
  },
  "language_info": {
   "codemirror_mode": {
    "name": "ipython",
    "version": 3
   },
   "file_extension": ".py",
   "mimetype": "text/x-python",
   "name": "python",
   "nbconvert_exporter": "python",
   "pygments_lexer": "ipython3",
   "version": "3.10.0"
  },
  "orig_nbformat": 4,
  "vscode": {
   "interpreter": {
    "hash": "a9cff5a362bc38ef45d817ae74b1af54d6a076e3d773891282bce078b815ba34"
   }
  }
 },
 "nbformat": 4,
 "nbformat_minor": 2
}
